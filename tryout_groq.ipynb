{
 "cells": [
  {
   "cell_type": "code",
   "execution_count": 5,
   "id": "26e9e950-c663-4e3d-bbd3-674d67966762",
   "metadata": {},
   "outputs": [],
   "source": [
    "from langchain_groq import ChatGroq\n",
    "\n",
    "llama = ChatGroq(\n",
    "    model=\"llama-3.3-70b-versatile\",\n",
    "    temperature=0,\n",
    "    groq_api_key=\"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\"\n",
    ")"
   ]
  },
  {
   "cell_type": "code",
   "execution_count": 6,
   "id": "1d17d894-669a-4a80-b834-78c0b993f260",
   "metadata": {},
   "outputs": [
    {
     "data": {
      "text/plain": [
       "AIMessage(content='The RSA algorithm is a widely used public-key encryption algorithm for secure data transmission. Here\\'s a comprehensive overview of the RSA algorithm, from basic to advanced:\\n\\n**Introduction to RSA**\\n\\nRSA stands for Rivest-Shamir-Adleman, named after its inventors Ron Rivest, Adi Shamir, and Leonard Adleman. The algorithm was first published in 1978 and is based on the principles of number theory.\\n\\n**Basic Principles of RSA**\\n\\nThe RSA algorithm is based on the difficulty of factoring large composite numbers into their prime factors. It uses a pair of keys:\\n\\n1. **Public Key**: Used for encryption, this key is made publicly available.\\n2. **Private Key**: Used for decryption, this key is kept secret.\\n\\nThe RSA algorithm involves the following steps:\\n\\n1. **Key Generation**: Generate two large prime numbers, p and q.\\n2. **Modulus Calculation**: Calculate the modulus, n, which is the product of p and q (n = p \\\\* q).\\n3. **Public Exponent Calculation**: Choose a public exponent, e, such that 1 < e < (p-1) \\\\* (q-1) and gcd(e, (p-1) \\\\* (q-1)) = 1.\\n4. **Private Exponent Calculation**: Calculate the private exponent, d, such that d \\\\* e ≡ 1 (mod (p-1) \\\\* (q-1)).\\n\\n**Encryption and Decryption**\\n\\nThe RSA encryption and decryption processes are as follows:\\n\\n**Encryption**:\\n\\n1. Convert the plaintext message to a numerical representation, m.\\n2. Compute the ciphertext, c, using the public key: c ≡ m^e (mod n).\\n\\n**Decryption**:\\n\\n1. Compute the plaintext, m, using the private key: m ≡ c^d (mod n).\\n\\n**Example**\\n\\nSuppose we want to encrypt the message \"HELLO\" using RSA. We generate two large prime numbers, p = 61 and q = 53. The modulus, n, is calculated as n = p \\\\* q = 3233.\\n\\nWe choose a public exponent, e = 17, and calculate the private exponent, d, using the extended Euclidean algorithm: d = 2753.\\n\\nTo encrypt the message \"HELLO\", we convert it to a numerical representation: m = 072 101 108 108 111.\\n\\nWe then compute the ciphertext, c, using the public key: c ≡ m^17 (mod 3233).\\n\\nTo decrypt the ciphertext, we use the private key: m ≡ c^2753 (mod 3233).\\n\\n**Security of RSA**\\n\\nThe security of RSA relies on the difficulty of factoring large composite numbers into their prime factors. An attacker would need to factor the modulus, n, to obtain the private key. However, factoring large numbers is a computationally infeasible task, making RSA a secure encryption algorithm.\\n\\n**Key Sizes**\\n\\nThe security of RSA depends on the key size. Common key sizes for RSA are:\\n\\n* 512 bits (considered insecure)\\n* 1024 bits (considered insecure)\\n* 2048 bits (considered secure)\\n* 3072 bits (considered secure)\\n* 4096 bits (considered secure)\\n\\n**Advantages and Disadvantages**\\n\\nAdvantages:\\n\\n* RSA is a widely used and well-established encryption algorithm.\\n* It provides secure key exchange and encryption.\\n* It is relatively easy to implement.\\n\\nDisadvantages:\\n\\n* RSA is slower than symmetric-key encryption algorithms.\\n* Key sizes need to be large to ensure security.\\n* RSA is vulnerable to side-channel attacks, such as timing attacks and power analysis attacks.\\n\\n**Real-World Applications**\\n\\nRSA is widely used in various applications, including:\\n\\n* Secure web browsing (HTTPS)\\n* Email encryption (PGP, S/MIME)\\n* Virtual private networks (VPNs)\\n* Digital signatures (code signing, document signing)\\n\\n**Advanced Topics**\\n\\nSome advanced topics related to RSA include:\\n\\n* **RSA-OAEP**: A padding scheme used to encrypt messages with RSA.\\n* **RSA-PSS**: A padding scheme used to sign messages with RSA.\\n* **Side-channel attacks**: Attacks that target the implementation of RSA, rather than the algorithm itself.\\n* **Quantum computer attacks**: Attacks that use quantum computers to factor large composite numbers, potentially breaking RSA.\\n\\nI hope this provides a comprehensive overview of the RSA algorithm! Do you have any specific questions or topics you\\'d like me to expand on?', additional_kwargs={}, response_metadata={'token_usage': {'completion_tokens': 932, 'prompt_tokens': 73, 'total_tokens': 1005, 'completion_time': 3.389090909, 'prompt_time': 0.011144677, 'queue_time': 0.037843693000000005, 'total_time': 3.400235586}, 'model_name': 'llama-3.3-70b-versatile', 'system_fingerprint': 'fp_4196e754db', 'finish_reason': 'stop', 'logprobs': None}, id='run-28f63304-a169-41fe-82c3-8b5dadccaa60-0', usage_metadata={'input_tokens': 73, 'output_tokens': 932, 'total_tokens': 1005})"
      ]
     },
     "execution_count": 6,
     "metadata": {},
     "output_type": "execute_result"
    }
   ],
   "source": [
    "message = [(\"system\", \"you are a cryptography expert, who can answer any questions regarding any cipher from element level to advanced, for any cipher name you gonna share the most basic to advanced information on the topic\"), (\"human\", \"RSA algorithm\")]\n",
    "response = llama.invoke(message)\n",
    "response\n",
    "                                                                                                                                                                                                                                 "
   ]
  },
  {
   "cell_type": "code",
   "execution_count": 7,
   "id": "c92425b6-2e10-4acc-a4a9-1f6bc5839de1",
   "metadata": {},
   "outputs": [
    {
     "data": {
      "text/plain": [
       "'The RSA algorithm is a widely used public-key encryption algorithm for secure data transmission. Here\\'s a comprehensive overview of the RSA algorithm, from basic to advanced:\\n\\n**Introduction to RSA**\\n\\nRSA stands for Rivest-Shamir-Adleman, named after its inventors Ron Rivest, Adi Shamir, and Leonard Adleman. The algorithm was first published in 1978 and is based on the principles of number theory.\\n\\n**Basic Principles of RSA**\\n\\nThe RSA algorithm is based on the difficulty of factoring large composite numbers into their prime factors. It uses a pair of keys:\\n\\n1. **Public Key**: Used for encryption, this key is made publicly available.\\n2. **Private Key**: Used for decryption, this key is kept secret.\\n\\nThe RSA algorithm involves the following steps:\\n\\n1. **Key Generation**: Generate two large prime numbers, p and q.\\n2. **Modulus Calculation**: Calculate the modulus, n, which is the product of p and q (n = p \\\\* q).\\n3. **Public Exponent Calculation**: Choose a public exponent, e, such that 1 < e < (p-1) \\\\* (q-1) and gcd(e, (p-1) \\\\* (q-1)) = 1.\\n4. **Private Exponent Calculation**: Calculate the private exponent, d, such that d \\\\* e ≡ 1 (mod (p-1) \\\\* (q-1)).\\n\\n**Encryption and Decryption**\\n\\nThe RSA encryption and decryption processes are as follows:\\n\\n**Encryption**:\\n\\n1. Convert the plaintext message to a numerical representation, m.\\n2. Compute the ciphertext, c, using the public key: c ≡ m^e (mod n).\\n\\n**Decryption**:\\n\\n1. Compute the plaintext, m, using the private key: m ≡ c^d (mod n).\\n\\n**Example**\\n\\nSuppose we want to encrypt the message \"HELLO\" using RSA. We generate two large prime numbers, p = 61 and q = 53. The modulus, n, is calculated as n = p \\\\* q = 3233.\\n\\nWe choose a public exponent, e = 17, and calculate the private exponent, d, using the extended Euclidean algorithm: d = 2753.\\n\\nTo encrypt the message \"HELLO\", we convert it to a numerical representation: m = 072 101 108 108 111.\\n\\nWe then compute the ciphertext, c, using the public key: c ≡ m^17 (mod 3233).\\n\\nTo decrypt the ciphertext, we use the private key: m ≡ c^2753 (mod 3233).\\n\\n**Security of RSA**\\n\\nThe security of RSA relies on the difficulty of factoring large composite numbers into their prime factors. An attacker would need to factor the modulus, n, to obtain the private key. However, factoring large numbers is a computationally infeasible task, making RSA a secure encryption algorithm.\\n\\n**Key Sizes**\\n\\nThe security of RSA depends on the key size. Common key sizes for RSA are:\\n\\n* 512 bits (considered insecure)\\n* 1024 bits (considered insecure)\\n* 2048 bits (considered secure)\\n* 3072 bits (considered secure)\\n* 4096 bits (considered secure)\\n\\n**Advantages and Disadvantages**\\n\\nAdvantages:\\n\\n* RSA is a widely used and well-established encryption algorithm.\\n* It provides secure key exchange and encryption.\\n* It is relatively easy to implement.\\n\\nDisadvantages:\\n\\n* RSA is slower than symmetric-key encryption algorithms.\\n* Key sizes need to be large to ensure security.\\n* RSA is vulnerable to side-channel attacks, such as timing attacks and power analysis attacks.\\n\\n**Real-World Applications**\\n\\nRSA is widely used in various applications, including:\\n\\n* Secure web browsing (HTTPS)\\n* Email encryption (PGP, S/MIME)\\n* Virtual private networks (VPNs)\\n* Digital signatures (code signing, document signing)\\n\\n**Advanced Topics**\\n\\nSome advanced topics related to RSA include:\\n\\n* **RSA-OAEP**: A padding scheme used to encrypt messages with RSA.\\n* **RSA-PSS**: A padding scheme used to sign messages with RSA.\\n* **Side-channel attacks**: Attacks that target the implementation of RSA, rather than the algorithm itself.\\n* **Quantum computer attacks**: Attacks that use quantum computers to factor large composite numbers, potentially breaking RSA.\\n\\nI hope this provides a comprehensive overview of the RSA algorithm! Do you have any specific questions or topics you\\'d like me to expand on?'"
      ]
     },
     "execution_count": 7,
     "metadata": {},
     "output_type": "execute_result"
    }
   ],
   "source": [
    "response.content"
   ]
  },
  {
   "cell_type": "code",
   "execution_count": 11,
   "id": "22eb6616-ca05-451e-a20c-b7a3166e250e",
   "metadata": {},
   "outputs": [],
   "source": [
    "from langchain_community.document_loaders import WebBaseLoader\n",
    "\n",
    "loader = WebBaseLoader(\"https://jobs.nike.com/job/R-37145?from=job%20search%20funnel\")\n",
    "content = loader.load().pop().page_content"
   ]
  },
  {
   "cell_type": "code",
   "execution_count": 12,
   "id": "74680c35-f294-4fb4-aec8-18b2babbc4cb",
   "metadata": {},
   "outputs": [
    {
     "data": {
      "text/plain": [
       "\"Apply for Machine Learning Engineer - Supply Chain\\n\\nSearch JobsSkip navigationSearch JobsNIKE, INC. JOBSContract JobsJoin The Talent CommunityLife @ NikeOverviewBenefitsBrandsOverviewJordanConverseTeamsOverviewAdministrative SupportAdvanced InnovationAir Manufacturing InnovationAviationCommunicationsCustomer ServiceDesignDigitalFacilitiesFinance & AccountingGovernment & Public AffairsHuman ResourcesInsights & AnalyticsLegalManufacturing & EngineeringMarketingMerchandisingPlanningPrivacyProcurementProduct Creation, Development & ManagementRetail CorporateRetail StoresSalesSocial & Community ImpactSports MarketingStrategic PlanningSupply Chain, Distribution & LogisticsSustainabilityTechnologyLocationsOverviewNike WHQNike New York HQEHQ: Hilversum, The NetherlandsELC: Laakdal, BelgiumGreater China HQDiversity, Equity & InclusionOverviewMilitary InclusionDisability InclusionIndigenous InclusionInternshipsData & AnalyticsMachine Learning Engineer - Supply ChainBeaverton, OregonBecome a Part of the NIKE, Inc. Team\\nNIKE, Inc. does more than outfit the world’s best athletes. It is a place to explore potential, obliterate boundaries and push out the edges of what can be. The company looks for people who can grow, think, dream and create. Its culture thrives by embracing diversity and rewarding imagination. The brand seeks achievers, leaders and visionaries. At NIKE, Inc. it’s about each person bringing skills and passion to a challenging and constantly evolving game.Open to remote work except in South Dakota, Vermont and West Virginia.The annual base salary for this position ranges from $82,900.00 in our lowest geographic market to $185,700.00 in our highest geographic market. Actual salary will vary based on a candidate's location, qualifications, skills and experience.Information about benefits can be found here.\\xa0This posting is for 2 positions within the Enterprise AI/ML\\xa0function.WHO ARE WE LOOKING FORWe seek passionate engineers to join our team!\\xa0 As a Machine Learning Engineer, you will develop robust advanced analytics and machine learning solutions that have a direct impact on the Supply Chain infrastructure.\\xa0 You should have experience in Python; a strong background in algorithms and data structures; hands-on AWS experience; as well as experience in database technology (e.g. Postgres, Redis) and data processing technology (e.g. EMR).\\xa0 You should also have a demonstrable history of team leadership and value delivery, and be comfortable working in an agile product model.\\xa0 As a ML Engineer, you will be expected to own projects end-to-end - from conception to operationalization, demonstrating an understanding of the full software development lifecycle.\\xa0 As a result, you will be expected to provide technical vision and guidance to your teammates; therefore, strong communication skills are critical in this role.\\xa0WHAT WILL YOU WORK ONIf this is you, you’ll be working with the Artificial Intelligence and Machine Learning (AI/ML) team at Nike.\\xa0 With teammates in Portland, Boston, and Poland, you’ll be joining a global organization working to solve machine learning problems at scale.\\xa0 You’ll be designing and implementing scalable applications that leverage prediction models and optimization programs to deliver data driven decisions that result in immense business impact.\\xa0 You’ll also contribute to core advanced analytics and machine learning platforms and tools to enable both prediction and optimization model development.\\xa0 You thrive when surrounded by talented colleagues and aim to never stop learning. We are looking for candidates who enjoy a collaborative and academic environment where we develop and share new skills, mentor, and contribute knowledge and software back to the analytics and engineering communities both within Nike and at-large.We value and nurture our culture by seeking to always be collaborative, intellectually curious, fun, open, and diverse.WHO WILL YOU WORK WITHIn this role, you’ll be working closely with the rest of our global team, along with commercial and consumer analytics, and enterprise architecture teams. You will report to the director of Supply Chain AI/ML Engineering.WHAT YOU BRING Bachelor degree in Computer Science or related technical subject area1-3 years of professional experience in software engineering, data engineering, machine learning, or related fieldA demonstrated problem solving and analytical mindsetAbility to write robust, maintainable, and extendable code in Python; containerized in Docker, and automated with CI/CDExperience with agile development and test driven developmentUnderstanding of data structures, data modeling and software architectureExperience with data sets, ETL pipelines, SQL, and general data engineeringExposure to MLOps, API development, or mathematical optimization are highly desirableExperience with cloud architecture and technologies, in particular Amazon Web ServicesExperience with technologies like Spark, Kubernetes, Docker, Jenkins, Databricks, Terraform is also highly desirableEffective communication skills (with team members, the business, and in code)We are committed to fostering a diverse and inclusive environment for all employees and job applicants. We offer a number of accommodations to complete our interview process including screen readers, sign language interpreters, accessible and single location for in-person interviews, closed captioning, and other reasonable modifications as needed. If you discover, as you navigate our application process, that you need assistance or an accommodation due to a disability, please complete the Candidate Accommodation Request Form.NIKE, Inc. is a growth company that looks for team members to grow with it. Nike offers a generous total rewards package, casual work environment, a diverse and inclusive culture, and an electric atmosphere for professional development. No matter the location, or the role, every Nike employee shares one galvanizing mission: To bring inspiration and innovation to every athlete* in the world.NIKE, Inc. is committed to employing a diverse workforce. Qualified applicants will receive consideration without regard to race, color, religion, sex, national origin, age, sexual orientation, gender identity, gender expression, veteran status, or disability.How We HireAt NIKE, Inc. we promise to provide a premium, inclusive, compelling and authentic candidate experience. Delivering on this promise means we allow you to be at your best — and to do that, you need to understand how the hiring process works. Transparency is key.\\r\\n\\r\\n* This overview explains our hiring process for corporate roles. Note there may be different hiring steps involved for non-corporate roles.Start nowBenefitsWhether it’s transportation or financial health, we continually invest in our employees to help them achieve greatness — inside and outside of work. All who work here should be able to realize their full potential.Employee Assistance ProgramEmployee Stock Purchase Plan (ESPP)HolidaysMedical PlanPaid Time Off (PTO)Product DiscountsSabbaticalsLearn moreFIND A STOREBECOME A MEMBERSIGN UP FOR EMAILSEND US FEEDBACKSTUDENT DISCOUNTSGET HELPGET HELPOrder StatusDeliveryReturnsPayment OptionsContact Us On Nike.com InquiriesContact Us On All Other InquiriesABOUT NIKEABOUT NIKENewsCareersInvestorsSustainabilityIndia© 2025 Nike, Inc. All Rights ReservedGuidesNike AdaptNike Air MaxNike FlyleatherNike PegasusNike Zoom FlyNike AirNike FlyEaseNike FreeNike ReactNike ZoomXNike Air Force 1Nike FlyknitNike JoyrideNike VaporflyTerms of SaleTerms of UseNike Privacy Policy\""
      ]
     },
     "execution_count": 12,
     "metadata": {},
     "output_type": "execute_result"
    }
   ],
   "source": [
    "content"
   ]
  },
  {
   "cell_type": "code",
   "execution_count": 13,
   "id": "592c8ac7-55e5-48f8-8f5b-11b8e1e09be1",
   "metadata": {},
   "outputs": [
    {
     "data": {
      "text/plain": [
       "AIMessage(content='```json\\n{\\n  \"role\": \"Machine Learning Engineer - Supply Chain\",\\n  \"experience\": \"1-3 years\",\\n  \"skills\": [\\n    \"Python\",\\n    \"Algorithms and data structures\",\\n    \"AWS\",\\n    \"Database technology (e.g. Postgres, Redis)\",\\n    \"Data processing technology (e.g. EMR)\",\\n    \"Agile development\",\\n    \"Test driven development\",\\n    \"MLOps\",\\n    \"API development\",\\n    \"Mathematical optimization\",\\n    \"Cloud architecture\",\\n    \"Amazon Web Services\",\\n    \"Spark\",\\n    \"Kubernetes\",\\n    \"Docker\",\\n    \"Jenkins\",\\n    \"Databricks\",\\n    \"Terraform\"\\n  ],\\n  \"description\": \"Develop robust advanced analytics and machine learning solutions that have a direct impact on the Supply Chain infrastructure. Design and implement scalable applications that leverage prediction models and optimization programs to deliver data driven decisions that result in immense business impact.\"\\n}\\n```', additional_kwargs={}, response_metadata={'token_usage': {'completion_tokens': 197, 'prompt_tokens': 1568, 'total_tokens': 1765, 'completion_time': 0.716363636, 'prompt_time': 0.164798239, 'queue_time': 0.04268151099999998, 'total_time': 0.881161875}, 'model_name': 'llama-3.3-70b-versatile', 'system_fingerprint': 'fp_4196e754db', 'finish_reason': 'stop', 'logprobs': None}, id='run-2a57cf82-1813-4d20-b2aa-2cc23634c533-0', usage_metadata={'input_tokens': 1568, 'output_tokens': 197, 'total_tokens': 1765})"
      ]
     },
     "execution_count": 13,
     "metadata": {},
     "output_type": "execute_result"
    }
   ],
   "source": [
    "from langchain_core.prompts import PromptTemplate\n",
    "\n",
    "prompt_extract = PromptTemplate.from_template(\n",
    "    \"\"\"\n",
    "    ###SCRAPED TEXT FROM WEBSITE:\n",
    "    {page_content}\n",
    "    ###INSTRUCTIONS:\n",
    "    The scaped text is from the career's page of a website.\n",
    "    Your job is to extract the job postings and return them in JSON format containing the following keys: `role`, `experience`, `skills` and `description`.\n",
    "    Only return the valid JSON.\n",
    "    ###VALID JSON(NO PREAMBLE):\n",
    "    \"\"\"\n",
    ")\n",
    "\n",
    "chain_extract = prompt_extract | llama\n",
    "json = chain_extract.invoke(input={'page_content':content})"
   ]
  },
  {
   "cell_type": "code",
   "execution_count": 14,
   "id": "e6a1d352-01dd-4515-8ecd-ef94c3fd2587",
   "metadata": {},
   "outputs": [
    {
     "name": "stdout",
     "output_type": "stream",
     "text": [
      "```json\n",
      "{\n",
      "  \"role\": \"Machine Learning Engineer - Supply Chain\",\n",
      "  \"experience\": \"1-3 years\",\n",
      "  \"skills\": [\n",
      "    \"Python\",\n",
      "    \"Algorithms and data structures\",\n",
      "    \"AWS\",\n",
      "    \"Database technology (e.g. Postgres, Redis)\",\n",
      "    \"Data processing technology (e.g. EMR)\",\n",
      "    \"Agile development\",\n",
      "    \"Test driven development\",\n",
      "    \"MLOps\",\n",
      "    \"API development\",\n",
      "    \"Mathematical optimization\",\n",
      "    \"Cloud architecture\",\n",
      "    \"Amazon Web Services\",\n",
      "    \"Spark\",\n",
      "    \"Kubernetes\",\n",
      "    \"Docker\",\n",
      "    \"Jenkins\",\n",
      "    \"Databricks\",\n",
      "    \"Terraform\"\n",
      "  ],\n",
      "  \"description\": \"Develop robust advanced analytics and machine learning solutions that have a direct impact on the Supply Chain infrastructure. Design and implement scalable applications that leverage prediction models and optimization programs to deliver data driven decisions that result in immense business impact.\"\n",
      "}\n",
      "```\n"
     ]
    }
   ],
   "source": [
    "print(json.content)"
   ]
  },
  {
   "cell_type": "code",
   "execution_count": 16,
   "id": "c07d2631-3611-46df-b65d-fbc88720d435",
   "metadata": {},
   "outputs": [
    {
     "data": {
      "text/plain": [
       "{'role': 'Machine Learning Engineer - Supply Chain',\n",
       " 'experience': '1-3 years',\n",
       " 'skills': ['Python',\n",
       "  'Algorithms and data structures',\n",
       "  'AWS',\n",
       "  'Database technology (e.g. Postgres, Redis)',\n",
       "  'Data processing technology (e.g. EMR)',\n",
       "  'Agile development',\n",
       "  'Test driven development',\n",
       "  'MLOps',\n",
       "  'API development',\n",
       "  'Mathematical optimization',\n",
       "  'Cloud architecture',\n",
       "  'Amazon Web Services',\n",
       "  'Spark',\n",
       "  'Kubernetes',\n",
       "  'Docker',\n",
       "  'Jenkins',\n",
       "  'Databricks',\n",
       "  'Terraform'],\n",
       " 'description': 'Develop robust advanced analytics and machine learning solutions that have a direct impact on the Supply Chain infrastructure. Design and implement scalable applications that leverage prediction models and optimization programs to deliver data driven decisions that result in immense business impact.'}"
      ]
     },
     "execution_count": 16,
     "metadata": {},
     "output_type": "execute_result"
    }
   ],
   "source": [
    "from langchain_core.output_parsers import JsonOutputParser\n",
    "\n",
    "json_parser = JsonOutputParser()\n",
    "json_response = json_parser.parse(json.content)\n",
    "json_response"
   ]
  },
  {
   "cell_type": "code",
   "execution_count": 17,
   "id": "d58bf0e2-1335-4522-b3a5-f204b2d560dc",
   "metadata": {},
   "outputs": [
    {
     "data": {
      "text/plain": [
       "dict"
      ]
     },
     "execution_count": 17,
     "metadata": {},
     "output_type": "execute_result"
    }
   ],
   "source": [
    "type(json_response)"
   ]
  },
  {
   "cell_type": "code",
   "execution_count": 18,
   "id": "89df999b-1390-4b67-86e0-a5ef044639a0",
   "metadata": {},
   "outputs": [],
   "source": [
    "import uuid\n",
    "import chromadb\n",
    "\n",
    "client = chromadb.PersistentClient('vectorstore')\n",
    "collection = client.get_or_create_collection(name = \"portfolio\")\n",
    "\n",
    "if not collection.count():\n",
    "    for _, row in my_portfolio.iterrows():\n",
    "        collection.add(documents = row[\"Techstack\"],\n",
    "                      metadatas = {\"links\": row[\"Links\"]},\n",
    "                      ids=[str(uuid.uuid4())])"
   ]
  },
  {
   "cell_type": "code",
   "execution_count": 19,
   "id": "97d86baf-8a76-4a62-946a-f77e4a178040",
   "metadata": {},
   "outputs": [
    {
     "data": {
      "text/plain": [
       "[[{'links': 'https://example.com/ml-python-portfolio'},\n",
       "  {'links': 'https://example.com/python-portfolio'}],\n",
       " [{'links': 'https://example.com/ml-python-portfolio'},\n",
       "  {'links': 'https://example.com/magento-portfolio'}],\n",
       " [{'links': 'https://example.com/ios-ar-portfolio'},\n",
       "  {'links': 'https://example.com/wordpress-portfolio'}],\n",
       " [{'links': 'https://example.com/magento-portfolio'},\n",
       "  {'links': 'https://example.com/vue-portfolio'}],\n",
       " [{'links': 'https://example.com/ml-python-portfolio'},\n",
       "  {'links': 'https://example.com/magento-portfolio'}],\n",
       " [{'links': 'https://example.com/ios-ar-portfolio'},\n",
       "  {'links': 'https://example.com/devops-portfolio'}],\n",
       " [{'links': 'https://example.com/devops-portfolio'},\n",
       "  {'links': 'https://example.com/ml-python-portfolio'}],\n",
       " [{'links': 'https://example.com/devops-portfolio'},\n",
       "  {'links': 'https://example.com/ml-python-portfolio'}],\n",
       " [{'links': 'https://example.com/flutter-portfolio'},\n",
       "  {'links': 'https://example.com/ios-ar-portfolio'}],\n",
       " [{'links': 'https://example.com/ml-python-portfolio'},\n",
       "  {'links': 'https://example.com/wordpress-portfolio'}],\n",
       " [{'links': 'https://example.com/xamarin-portfolio'},\n",
       "  {'links': 'https://example.com/ios-portfolio'}],\n",
       " [{'links': 'https://example.com/wordpress-portfolio'},\n",
       "  {'links': 'https://example.com/magento-portfolio'}],\n",
       " [{'links': 'https://example.com/kotlin-android-portfolio'},\n",
       "  {'links': 'https://example.com/kotlin-backend-portfolio'}],\n",
       " [{'links': 'https://example.com/devops-portfolio'},\n",
       "  {'links': 'https://example.com/kotlin-backend-portfolio'}],\n",
       " [{'links': 'https://example.com/devops-portfolio'},\n",
       "  {'links': 'https://example.com/ios-ar-portfolio'}],\n",
       " [{'links': 'https://example.com/devops-portfolio'},\n",
       "  {'links': 'https://example.com/kotlin-backend-portfolio'}],\n",
       " [{'links': 'https://example.com/flutter-portfolio'},\n",
       "  {'links': 'https://example.com/kotlin-android-portfolio'}],\n",
       " [{'links': 'https://example.com/devops-portfolio'},\n",
       "  {'links': 'https://example.com/kotlin-backend-portfolio'}]]"
      ]
     },
     "execution_count": 19,
     "metadata": {},
     "output_type": "execute_result"
    }
   ],
   "source": [
    "links = collection.query(query_texts= json_response['skills'], n_results=2).get('metadatas', []);\n",
    "links"
   ]
  },
  {
   "cell_type": "code",
   "execution_count": 21,
   "id": "0ac4fd33-d175-4dd5-a540-6eca4264f489",
   "metadata": {},
   "outputs": [
    {
     "name": "stdout",
     "output_type": "stream",
     "text": [
      "Subject: Expert Machine Learning Solutions for Supply Chain Optimization\n",
      "\n",
      "Dear Hiring Manager,\n",
      "\n",
      "I came across the job description for a Machine Learning Engineer - Supply Chain at your organization, and I am excited to introduce AtliQ, a leading AI and software consultancy company. We specialize in developing tailored solutions that facilitate seamless integration of business processes through automated tools, empowering enterprises to achieve scalability, process optimization, cost reduction, and heightened overall efficiency.\n",
      "\n",
      "Our team of experts has extensive experience in designing and implementing scalable applications that leverage prediction models and optimization programs to deliver data-driven decisions. We are well-versed in the skills you've listed, including Python, Algorithms and data structures, AWS, Database technology, Data processing technology, Agile development, Test-driven development, MLOps, API development, Mathematical optimization, Cloud architecture, and more.\n",
      "\n",
      "I'd like to highlight our relevant portfolio in machine learning and Python: https://example.com/ml-python-portfolio. This showcases our capabilities in developing robust advanced analytics and machine learning solutions that can have a direct impact on your Supply Chain infrastructure.\n",
      "\n",
      "At AtliQ, we understand the importance of delivering immersive and innovative solutions that meet the unique needs of your business. Our team is committed to collaborating closely with your organization to design and implement customized solutions that drive immense business impact.\n",
      "\n",
      "I'd be delighted to schedule a call to discuss how AtliQ can support your Supply Chain optimization goals. Please let me know if you're interested, and we can schedule a time that suits you.\n",
      "\n",
      "Best regards,\n",
      "\n",
      "George\n",
      "Business Development Executive\n",
      "AtliQ\n"
     ]
    }
   ],
   "source": [
    "prompt_email = PromptTemplate.from_template(\n",
    "    \"\"\"\n",
    "    ###JOB DESCRIPTION:\n",
    "    {job_description}\n",
    "\n",
    "    ###INSTRUCTION:\n",
    "    You are George, a business development executive at AtliQ. AtliQ is an AI and software consultancy company dedicated to facilitate the seamless\n",
    "    integration of the business processes through automated tools.\n",
    "    Over our experience, we have empowered numerous enterprises with tailored solutions, fostering sclability, process optimization, cost reduction,\n",
    "    heightened overall efficiency.\n",
    "    Your job is to write cold email to the client regarding the job mentioned above describing the capability of atliQ in fulfilling their needs.\n",
    "    Also add the most relevent one from the following list to showcase Atliq's portfolio: {link_list}\n",
    "    Remember, you are BDE in atliq.\n",
    "    Do not provide a preamble.\n",
    "\n",
    "    ###EMAIL (NO PREAMBLE):\n",
    "    \"\"\")\n",
    "chain_email = prompt_email | llama\n",
    "email_res = chain_email.invoke({\"job_description\": str(json_response), \"link_list\": links})\n",
    "print(email_res.content)"
   ]
  },
  {
   "cell_type": "code",
   "execution_count": null,
   "id": "8165495c-25a1-4c5f-b9f9-97e3e13c7a9a",
   "metadata": {},
   "outputs": [],
   "source": []
  }
 ],
 "metadata": {
  "kernelspec": {
   "display_name": "Python 3 (ipykernel)",
   "language": "python",
   "name": "python3"
  },
  "language_info": {
   "codemirror_mode": {
    "name": "ipython",
    "version": 3
   },
   "file_extension": ".py",
   "mimetype": "text/x-python",
   "name": "python",
   "nbconvert_exporter": "python",
   "pygments_lexer": "ipython3",
   "version": "3.12.7"
  }
 },
 "nbformat": 4,
 "nbformat_minor": 5
}
